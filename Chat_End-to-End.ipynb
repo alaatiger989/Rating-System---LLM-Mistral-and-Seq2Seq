{
 "cells": [
  {
   "cell_type": "code",
   "execution_count": 1,
   "id": "102e7971",
   "metadata": {},
   "outputs": [],
   "source": [
    "from tensorflow.keras import preprocessing , utils\n",
    "import os\n",
    "import yaml\n",
    "import pandas as pd"
   ]
  },
  {
   "cell_type": "code",
   "execution_count": 2,
   "id": "35608078",
   "metadata": {},
   "outputs": [],
   "source": [
    "import gpt4all\n",
    "from gpt4all import GPT4All\n",
    "from deep_translator import GoogleTranslator\n",
    "import asyncio\n",
    "import sys"
   ]
  },
  {
   "cell_type": "code",
   "execution_count": 3,
   "id": "3b2f7628",
   "metadata": {},
   "outputs": [],
   "source": [
    "import string\n",
    "import re\n",
    "import numpy as np\n",
    "from numpy import array, argmax, random, take\n",
    "import pandas as pd\n",
    "from keras.models import Sequential\n",
    "from keras.layers import Dense, LSTM, Embedding, RepeatVector\n",
    "from keras.preprocessing.text import Tokenizer\n",
    "from keras.callbacks import ModelCheckpoint\n",
    "from keras.models import load_model\n",
    "from keras import optimizers\n",
    "import matplotlib.pyplot as plt\n",
    "%matplotlib inline\n",
    "pd.set_option('display.max_colwidth', 200)"
   ]
  },
  {
   "cell_type": "markdown",
   "id": "981cb24b",
   "metadata": {},
   "source": [
    "# Loading LLM Mistral Model (Rating System Model)"
   ]
  },
  {
   "cell_type": "code",
   "execution_count": 4,
   "id": "246ca0ff",
   "metadata": {},
   "outputs": [],
   "source": [
    "model = GPT4All(device = 'gpu' , model_name = \"alaa_ai_model_mistral_v1.9.gguf\" , model_path ='C:/Users/Alaa AI/Python Projects/Chatbots/GPT by me/' , allow_download = False)"
   ]
  },
  {
   "cell_type": "markdown",
   "id": "cea2b8f3",
   "metadata": {},
   "source": [
    "# Preparing The Seq2Seq Model :"
   ]
  },
  {
   "cell_type": "code",
   "execution_count": 5,
   "id": "db64ef43",
   "metadata": {},
   "outputs": [],
   "source": [
    "questions = list()\n",
    "answers = list()"
   ]
  },
  {
   "cell_type": "markdown",
   "id": "909a5b86",
   "metadata": {},
   "source": [
    "Reading the dataset:"
   ]
  },
  {
   "cell_type": "code",
   "execution_count": 6,
   "id": "b6e6bcb3",
   "metadata": {},
   "outputs": [
    {
     "data": {
      "text/html": [
       "<div>\n",
       "<style scoped>\n",
       "    .dataframe tbody tr th:only-of-type {\n",
       "        vertical-align: middle;\n",
       "    }\n",
       "\n",
       "    .dataframe tbody tr th {\n",
       "        vertical-align: top;\n",
       "    }\n",
       "\n",
       "    .dataframe thead th {\n",
       "        text-align: right;\n",
       "    }\n",
       "</style>\n",
       "<table border=\"1\" class=\"dataframe\">\n",
       "  <thead>\n",
       "    <tr style=\"text-align: right;\">\n",
       "      <th></th>\n",
       "      <th>Topic</th>\n",
       "      <th>Definition of the topic</th>\n",
       "      <th>Rate</th>\n",
       "      <th>Rating</th>\n",
       "    </tr>\n",
       "  </thead>\n",
       "  <tbody>\n",
       "    <tr>\n",
       "      <th>0</th>\n",
       "      <td>cup</td>\n",
       "      <td>cup (s)</td>\n",
       "      <td>0</td>\n",
       "      <td>Zero</td>\n",
       "    </tr>\n",
       "    <tr>\n",
       "      <th>1</th>\n",
       "      <td>cup</td>\n",
       "      <td>bottle</td>\n",
       "      <td>0</td>\n",
       "      <td>Zero</td>\n",
       "    </tr>\n",
       "    <tr>\n",
       "      <th>2</th>\n",
       "      <td>cup</td>\n",
       "      <td>We calibrate with it</td>\n",
       "      <td>1</td>\n",
       "      <td>One</td>\n",
       "    </tr>\n",
       "    <tr>\n",
       "      <th>3</th>\n",
       "      <td>cup</td>\n",
       "      <td>It is placed with a cup of coffee</td>\n",
       "      <td>1</td>\n",
       "      <td>One</td>\n",
       "    </tr>\n",
       "    <tr>\n",
       "      <th>4</th>\n",
       "      <td>cup</td>\n",
       "      <td>We drink in it</td>\n",
       "      <td>2</td>\n",
       "      <td>Two</td>\n",
       "    </tr>\n",
       "    <tr>\n",
       "      <th>5</th>\n",
       "      <td>cup</td>\n",
       "      <td>A cup to drink from</td>\n",
       "      <td>2</td>\n",
       "      <td>Two</td>\n",
       "    </tr>\n",
       "    <tr>\n",
       "      <th>6</th>\n",
       "      <td>cup</td>\n",
       "      <td>We put water/juice/tea in it and drink it</td>\n",
       "      <td>2</td>\n",
       "      <td>Two</td>\n",
       "    </tr>\n",
       "    <tr>\n",
       "      <th>7</th>\n",
       "      <td>cup</td>\n",
       "      <td>Something made of glass that we drink from</td>\n",
       "      <td>2</td>\n",
       "      <td>Two</td>\n",
       "    </tr>\n",
       "    <tr>\n",
       "      <th>8</th>\n",
       "      <td>cup</td>\n",
       "      <td>Something to put water, juice, tea in</td>\n",
       "      <td>2</td>\n",
       "      <td>Two</td>\n",
       "    </tr>\n",
       "    <tr>\n",
       "      <th>9</th>\n",
       "      <td>Veil</td>\n",
       "      <td>Colorful</td>\n",
       "      <td>0</td>\n",
       "      <td>Zero</td>\n",
       "    </tr>\n",
       "    <tr>\n",
       "      <th>10</th>\n",
       "      <td>Veil</td>\n",
       "      <td>short</td>\n",
       "      <td>0</td>\n",
       "      <td>Zero</td>\n",
       "    </tr>\n",
       "    <tr>\n",
       "      <th>11</th>\n",
       "      <td>Veil</td>\n",
       "      <td>At his death</td>\n",
       "      <td>0</td>\n",
       "      <td>Zero</td>\n",
       "    </tr>\n",
       "    <tr>\n",
       "      <th>12</th>\n",
       "      <td>Veil</td>\n",
       "      <td>My mother's</td>\n",
       "      <td>0</td>\n",
       "      <td>Zero</td>\n",
       "    </tr>\n",
       "    <tr>\n",
       "      <th>13</th>\n",
       "      <td>Veil</td>\n",
       "      <td>Made of silk and cotton</td>\n",
       "      <td>1</td>\n",
       "      <td>One</td>\n",
       "    </tr>\n",
       "    <tr>\n",
       "      <th>14</th>\n",
       "      <td>Veil</td>\n",
       "      <td>We wear it and pray/go out with it</td>\n",
       "      <td>1</td>\n",
       "      <td>One</td>\n",
       "    </tr>\n",
       "    <tr>\n",
       "      <th>15</th>\n",
       "      <td>Veil</td>\n",
       "      <td>We wrap it up and wear it (S)</td>\n",
       "      <td>1</td>\n",
       "      <td>One</td>\n",
       "    </tr>\n",
       "    <tr>\n",
       "      <th>16</th>\n",
       "      <td>Veil</td>\n",
       "      <td>Women wear it</td>\n",
       "      <td>1</td>\n",
       "      <td>One</td>\n",
       "    </tr>\n",
       "    <tr>\n",
       "      <th>17</th>\n",
       "      <td>Veil</td>\n",
       "      <td>wear (s)</td>\n",
       "      <td>1</td>\n",
       "      <td>One</td>\n",
       "    </tr>\n",
       "    <tr>\n",
       "      <th>18</th>\n",
       "      <td>Veil</td>\n",
       "      <td>We wear it and go out with it</td>\n",
       "      <td>1</td>\n",
       "      <td>One</td>\n",
       "    </tr>\n",
       "    <tr>\n",
       "      <th>19</th>\n",
       "      <td>Veil</td>\n",
       "      <td>Women wear it on their heads when they go out on the street</td>\n",
       "      <td>2</td>\n",
       "      <td>Two</td>\n",
       "    </tr>\n",
       "    <tr>\n",
       "      <th>20</th>\n",
       "      <td>Veil</td>\n",
       "      <td>Something for a girl to cover her hair with</td>\n",
       "      <td>2</td>\n",
       "      <td>Two</td>\n",
       "    </tr>\n",
       "    <tr>\n",
       "      <th>21</th>\n",
       "      <td>Veil</td>\n",
       "      <td>A covering that a girl wears on her head when praying and going out</td>\n",
       "      <td>2</td>\n",
       "      <td>Two</td>\n",
       "    </tr>\n",
       "    <tr>\n",
       "      <th>22</th>\n",
       "      <td>Veil</td>\n",
       "      <td>scarf that we wear on our heads</td>\n",
       "      <td>2</td>\n",
       "      <td>Two</td>\n",
       "    </tr>\n",
       "    <tr>\n",
       "      <th>23</th>\n",
       "      <td>Veil</td>\n",
       "      <td>head cover</td>\n",
       "      <td>2</td>\n",
       "      <td>Two</td>\n",
       "    </tr>\n",
       "    <tr>\n",
       "      <th>24</th>\n",
       "      <td>Veil</td>\n",
       "      <td>A Muslim girl puts it on her head and it is a head covering</td>\n",
       "      <td>2</td>\n",
       "      <td>Two</td>\n",
       "    </tr>\n",
       "    <tr>\n",
       "      <th>25</th>\n",
       "      <td>Veil</td>\n",
       "      <td>Hair cover</td>\n",
       "      <td>2</td>\n",
       "      <td>Two</td>\n",
       "    </tr>\n",
       "    <tr>\n",
       "      <th>26</th>\n",
       "      <td>orange</td>\n",
       "      <td>It means orange (s)</td>\n",
       "      <td>0</td>\n",
       "      <td>Zero</td>\n",
       "    </tr>\n",
       "    <tr>\n",
       "      <th>27</th>\n",
       "      <td>orange</td>\n",
       "      <td>Round</td>\n",
       "      <td>0</td>\n",
       "      <td>Zero</td>\n",
       "    </tr>\n",
       "    <tr>\n",
       "      <th>28</th>\n",
       "      <td>orange</td>\n",
       "      <td>juice</td>\n",
       "      <td>0</td>\n",
       "      <td>Zero</td>\n",
       "    </tr>\n",
       "    <tr>\n",
       "      <th>29</th>\n",
       "      <td>orange</td>\n",
       "      <td>Tasty</td>\n",
       "      <td>0</td>\n",
       "      <td>Zero</td>\n",
       "    </tr>\n",
       "  </tbody>\n",
       "</table>\n",
       "</div>"
      ],
      "text/plain": [
       "     Topic  \\\n",
       "0      cup   \n",
       "1      cup   \n",
       "2      cup   \n",
       "3      cup   \n",
       "4      cup   \n",
       "5      cup   \n",
       "6      cup   \n",
       "7      cup   \n",
       "8      cup   \n",
       "9     Veil   \n",
       "10    Veil   \n",
       "11    Veil   \n",
       "12    Veil   \n",
       "13    Veil   \n",
       "14    Veil   \n",
       "15    Veil   \n",
       "16    Veil   \n",
       "17    Veil   \n",
       "18    Veil   \n",
       "19    Veil   \n",
       "20    Veil   \n",
       "21    Veil   \n",
       "22    Veil   \n",
       "23    Veil   \n",
       "24    Veil   \n",
       "25    Veil   \n",
       "26  orange   \n",
       "27  orange   \n",
       "28  orange   \n",
       "29  orange   \n",
       "\n",
       "                                                Definition of the topic  Rate  \\\n",
       "0                                                               cup (s)     0   \n",
       "1                                                                bottle     0   \n",
       "2                                                  We calibrate with it     1   \n",
       "3                                     It is placed with a cup of coffee     1   \n",
       "4                                                        We drink in it     2   \n",
       "5                                                   A cup to drink from     2   \n",
       "6                             We put water/juice/tea in it and drink it     2   \n",
       "7                            Something made of glass that we drink from     2   \n",
       "8                                 Something to put water, juice, tea in     2   \n",
       "9                                                              Colorful     0   \n",
       "10                                                                short     0   \n",
       "11                                                         At his death     0   \n",
       "12                                                          My mother's     0   \n",
       "13                                              Made of silk and cotton     1   \n",
       "14                                   We wear it and pray/go out with it     1   \n",
       "15                                        We wrap it up and wear it (S)     1   \n",
       "16                                                        Women wear it     1   \n",
       "17                                                             wear (s)     1   \n",
       "18                                        We wear it and go out with it     1   \n",
       "19          Women wear it on their heads when they go out on the street     2   \n",
       "20                          Something for a girl to cover her hair with     2   \n",
       "21  A covering that a girl wears on her head when praying and going out     2   \n",
       "22                                      scarf that we wear on our heads     2   \n",
       "23                                                           head cover     2   \n",
       "24          A Muslim girl puts it on her head and it is a head covering     2   \n",
       "25                                                           Hair cover     2   \n",
       "26                                                  It means orange (s)     0   \n",
       "27                                                                Round     0   \n",
       "28                                                                juice     0   \n",
       "29                                                                Tasty     0   \n",
       "\n",
       "   Rating  \n",
       "0    Zero  \n",
       "1    Zero  \n",
       "2     One  \n",
       "3     One  \n",
       "4     Two  \n",
       "5     Two  \n",
       "6     Two  \n",
       "7     Two  \n",
       "8     Two  \n",
       "9    Zero  \n",
       "10   Zero  \n",
       "11   Zero  \n",
       "12   Zero  \n",
       "13    One  \n",
       "14    One  \n",
       "15    One  \n",
       "16    One  \n",
       "17    One  \n",
       "18    One  \n",
       "19    Two  \n",
       "20    Two  \n",
       "21    Two  \n",
       "22    Two  \n",
       "23    Two  \n",
       "24    Two  \n",
       "25    Two  \n",
       "26   Zero  \n",
       "27   Zero  \n",
       "28   Zero  \n",
       "29   Zero  "
      ]
     },
     "execution_count": 6,
     "metadata": {},
     "output_type": "execute_result"
    }
   ],
   "source": [
    "data_from_excel = pd.read_csv('English Dataset/ratings.csv', encoding ='unicode_escape')#,skiprows = 2)\n",
    "data_from_excel.head(30)"
   ]
  },
  {
   "cell_type": "code",
   "execution_count": 7,
   "id": "bfacb861",
   "metadata": {},
   "outputs": [
    {
     "name": "stdout",
     "output_type": "stream",
     "text": [
      "Now :  480\n"
     ]
    }
   ],
   "source": [
    "for i in range(len(data_from_excel['Definition of the topic'])):\n",
    "    questions.append(data_from_excel['Definition of the topic'][i])\n",
    "for i in range(len(data_from_excel['Rating'])):\n",
    "    answers.append( '<START> ' + data_from_excel['Rating'][i] + ' <END>' )\n",
    "print(\"Now : \" , len(questions))"
   ]
  },
  {
   "cell_type": "code",
   "execution_count": 8,
   "id": "9a80f351",
   "metadata": {},
   "outputs": [
    {
     "name": "stdout",
     "output_type": "stream",
     "text": [
      "VOCAB SIZE : 740\n"
     ]
    }
   ],
   "source": [
    "tokenizer = preprocessing.text.Tokenizer()\n",
    "tokenizer.fit_on_texts( questions + answers )\n",
    "VOCAB_SIZE = len( tokenizer.word_index )+1\n",
    "print( 'VOCAB SIZE : {}'.format( VOCAB_SIZE ))"
   ]
  },
  {
   "cell_type": "markdown",
   "id": "4f0b5e44",
   "metadata": {},
   "source": [
    "Loading Encoder Model :"
   ]
  },
  {
   "cell_type": "code",
   "execution_count": 9,
   "id": "4a72cc8c",
   "metadata": {},
   "outputs": [
    {
     "name": "stdout",
     "output_type": "stream",
     "text": [
      "WARNING:tensorflow:No training configuration found in the save file, so the model was *not* compiled. Compile it manually.\n"
     ]
    }
   ],
   "source": [
    "enc_model = load_model('enc_model.h5')"
   ]
  },
  {
   "cell_type": "code",
   "execution_count": 10,
   "id": "3122d69e",
   "metadata": {},
   "outputs": [
    {
     "name": "stdout",
     "output_type": "stream",
     "text": [
      "Model: \"model_1\"\n",
      "_________________________________________________________________\n",
      " Layer (type)                Output Shape              Param #   \n",
      "=================================================================\n",
      " input_1 (InputLayer)        [(None, 29)]              0         \n",
      "                                                                 \n",
      " embedding (Embedding)       (None, 29, 200)           148000    \n",
      "                                                                 \n",
      " lstm (LSTM)                 [(None, 200),             320800    \n",
      "                              (None, 200),                       \n",
      "                              (None, 200)]                       \n",
      "                                                                 \n",
      "=================================================================\n",
      "Total params: 468,800\n",
      "Trainable params: 468,800\n",
      "Non-trainable params: 0\n",
      "_________________________________________________________________\n"
     ]
    }
   ],
   "source": [
    "enc_model.summary()"
   ]
  },
  {
   "cell_type": "markdown",
   "id": "0d6bac0e",
   "metadata": {},
   "source": [
    "Loading Decoder Model :"
   ]
  },
  {
   "cell_type": "code",
   "execution_count": 11,
   "id": "8eb93d28",
   "metadata": {},
   "outputs": [
    {
     "name": "stdout",
     "output_type": "stream",
     "text": [
      "WARNING:tensorflow:No training configuration found in the save file, so the model was *not* compiled. Compile it manually.\n"
     ]
    }
   ],
   "source": [
    "dec_model = load_model('dec_model.h5')"
   ]
  },
  {
   "cell_type": "code",
   "execution_count": 12,
   "id": "aa990b23",
   "metadata": {},
   "outputs": [
    {
     "name": "stdout",
     "output_type": "stream",
     "text": [
      "Model: \"model_2\"\n",
      "__________________________________________________________________________________________________\n",
      " Layer (type)                   Output Shape         Param #     Connected to                     \n",
      "==================================================================================================\n",
      " input_2 (InputLayer)           [(None, 3)]          0           []                               \n",
      "                                                                                                  \n",
      " embedding_1 (Embedding)        (None, 3, 200)       148000      ['input_2[0][0]']                \n",
      "                                                                                                  \n",
      " input_3 (InputLayer)           [(None, 200)]        0           []                               \n",
      "                                                                                                  \n",
      " input_4 (InputLayer)           [(None, 200)]        0           []                               \n",
      "                                                                                                  \n",
      " lstm_1 (LSTM)                  [(None, 3, 200),     320800      ['embedding_1[0][0]',            \n",
      "                                 (None, 200),                     'input_3[0][0]',                \n",
      "                                 (None, 200)]                     'input_4[0][0]']                \n",
      "                                                                                                  \n",
      " dense (Dense)                  (None, 3, 740)       148740      ['lstm_1[0][0]']                 \n",
      "                                                                                                  \n",
      "==================================================================================================\n",
      "Total params: 617,540\n",
      "Trainable params: 617,540\n",
      "Non-trainable params: 0\n",
      "__________________________________________________________________________________________________\n"
     ]
    }
   ],
   "source": [
    "dec_model.summary()"
   ]
  },
  {
   "cell_type": "code",
   "execution_count": 13,
   "id": "0f76a56f",
   "metadata": {},
   "outputs": [],
   "source": [
    "isQuestionCanBeAnswered = True"
   ]
  },
  {
   "cell_type": "code",
   "execution_count": 14,
   "id": "23fbb7df",
   "metadata": {},
   "outputs": [],
   "source": [
    "def str_to_tokens( sentence : str ):\n",
    "    words = sentence.lower().split()\n",
    "    tokens_list = list()\n",
    "    for word in words:\n",
    "        if(tokenizer.word_index.get(word) is None):\n",
    "            isQuestionCanBeAnswered = False\n",
    "            break\n",
    "        else:\n",
    "            tokens_list.append( tokenizer.word_index[ word ] )\n",
    "            isQuestionCanBeAnswered = True\n",
    "    return preprocessing.sequence.pad_sequences( [tokens_list] , maxlen=29 , padding='post') , isQuestionCanBeAnswered"
   ]
  },
  {
   "cell_type": "code",
   "execution_count": 15,
   "id": "f92d2554",
   "metadata": {},
   "outputs": [],
   "source": [
    "target_lang = ''\n",
    "output = ''"
   ]
  },
  {
   "cell_type": "code",
   "execution_count": 39,
   "id": "7779efd7",
   "metadata": {},
   "outputs": [],
   "source": [
    "async def response4(g4a):\n",
    "    # system = \"As a tester you Rate any statement on a scale of 1 to 10. if you couldn't ask to repeat the statement again.\"\n",
    "    system = \"Always assist with care, respect, and truth. Respond with utmost utility yet securely. Avoid harmful, unethical, prejudiced, or negative content. Ensure replies promote fairness and positivity.\"\n",
    "    user = ''\n",
    "    # a better way to use an executor:\n",
    "    with g4a.chat_session(system_prompt = \"You are a Rate System can rate any definition from 0 to 10. if your rate is between 0 and 3 respond with '0' , if your rate is between 4 to 7 respond with '1' and if your rate is between 8 to 10 respond with '2'\"):\n",
    "#         is_message_ended = True\n",
    "#         while is_message_ended == True:\n",
    "            prompt =  input(\"\\nUser : \")\n",
    "#             if(prompt == 'goodbye' or prompt == 'exit'):\n",
    "#                 break\n",
    "            print(\"\\nAlaa's robot:\")\n",
    "            generator = g4a.generate(prompt, max_tokens = 1000 , streaming = True)\n",
    "            event_loop = asyncio.get_running_loop()\n",
    "            has_tokens = True\n",
    "\n",
    "            def consume(generator):\n",
    "                nonlocal has_tokens\n",
    "                try:\n",
    "                    return next(generator)\n",
    "                except StopIteration:\n",
    "                    has_tokens = False\n",
    "\n",
    "            while has_tokens:\n",
    "                token = await event_loop.run_in_executor(None, consume, generator)\n",
    "                if token is not None:\n",
    "                    yield token"
   ]
  },
  {
   "cell_type": "code",
   "execution_count": 40,
   "id": "0d8372ef",
   "metadata": {},
   "outputs": [],
   "source": [
    "def get_response_in_arabic(g4a):\n",
    "    with g4a.chat_session():\n",
    "#         is_message_ended = True\n",
    "#         while is_message_ended == True:\n",
    "            prompt =  input(\"\\nUser : \")\n",
    "#             if(prompt == 'وداعا' or prompt == 'مع السلامة'):\n",
    "#                 break\n",
    "            input_text = prompt\n",
    "            input_text = GoogleTranslator(source='auto', target='en').translate(input_text)\n",
    "            output = g4a.generate(prompt=input_text, max_tokens =  1000)\n",
    "            output = GoogleTranslator(source='auto', target = target_lang).translate(output)\n",
    "            print(\"\\nAlaa's robot:\" , output)"
   ]
  },
  {
   "cell_type": "code",
   "execution_count": 41,
   "id": "9c4167ef",
   "metadata": {},
   "outputs": [],
   "source": [
    "def seq2seqModelActivated(question):\n",
    "    states_values = enc_model.predict( question )\n",
    "    empty_target_seq = np.zeros( ( 1 , 1 ) )\n",
    "    empty_target_seq[0, 0] = tokenizer.word_index['start']\n",
    "    stop_condition = False\n",
    "    decoded_translation = ''\n",
    "\n",
    "\n",
    "\n",
    "    while not stop_condition :\n",
    "        dec_outputs , h , c = dec_model.predict([ empty_target_seq ] + states_values )\n",
    "        sampled_word_index = np.argmax( dec_outputs[0, -1, :] )\n",
    "        sampled_word = None\n",
    "        for word , index in tokenizer.word_index.items() :\n",
    "            if sampled_word_index == index :\n",
    "                decoded_translation += ' {}'.format( word )\n",
    "                sampled_word = word\n",
    "\n",
    "\n",
    "\n",
    "        if sampled_word == 'end' or len(decoded_translation.split()) > 3:\n",
    "            stop_condition = True\n",
    "\n",
    "        empty_target_seq = np.zeros( ( 1 , 1 ) )\n",
    "        empty_target_seq[ 0 , 0 ] = sampled_word_index\n",
    "        states_values = [ h , c ]\n",
    "        \n",
    "        print( decoded_translation )"
   ]
  },
  {
   "cell_type": "code",
   "execution_count": 43,
   "id": "f9571ac8",
   "metadata": {},
   "outputs": [
    {
     "name": "stdout",
     "output_type": "stream",
     "text": [
      "Enter Definition :  Veil is a scarf that we wear on our heads\n",
      "Veil is a scarf that we wear on our heads\n",
      "Ai Rating Model is Loading...\n",
      "\n",
      "User :  Veil is a scarf that we wear on our heads\n",
      "\n",
      "Alaa's robot:\n",
      " 1\n"
     ]
    }
   ],
   "source": [
    "input_text = GoogleTranslator(source='auto', target = 'en').translate(input( 'Enter Definition : ' ))\n",
    "print(input_text)\n",
    "question  , isQuestionCanBeAnswered= str_to_tokens( input_text )\n",
    "if isQuestionCanBeAnswered:\n",
    "    seq2seqModelActivated(question)    \n",
    "else:\n",
    "    print(\"Ai Rating Model is Loading...\")\n",
    "    if(target_lang == 'ar'):\n",
    "#         print(\"إذا أردت إنهاء الشات يرجى كتابة وداعاً او مع السلامة\")\n",
    "        get_response_in_arabic(model)\n",
    "    else:\n",
    "#         print(\"If you want to exit or end the chat ... Write 'goodbye' or 'exit'\")\n",
    "        async for token in response4(model):\n",
    "            print(token, end='', flush=True)\n",
    "        print()"
   ]
  },
  {
   "cell_type": "code",
   "execution_count": 19,
   "id": "3a018c2d",
   "metadata": {},
   "outputs": [
    {
     "name": "stdout",
     "output_type": "stream",
     "text": [
      " ai is the field of science which concerns itself with building hardware and software that replicates the functions of the human mind end\n"
     ]
    }
   ],
   "source": [
    "print(decoded_translation)"
   ]
  },
  {
   "cell_type": "code",
   "execution_count": 20,
   "id": "206ddb15",
   "metadata": {},
   "outputs": [],
   "source": [
    "splitted_output = decoded_translation.rsplit(' ', 1)[0]"
   ]
  },
  {
   "cell_type": "code",
   "execution_count": 21,
   "id": "16ed73a0",
   "metadata": {},
   "outputs": [
    {
     "name": "stdout",
     "output_type": "stream",
     "text": [
      " ai is the field of science which concerns itself with building hardware and software that replicates the functions of the human mind\n"
     ]
    }
   ],
   "source": [
    "print(splitted_output)"
   ]
  },
  {
   "cell_type": "code",
   "execution_count": 22,
   "id": "9214779b",
   "metadata": {},
   "outputs": [
    {
     "name": "stdout",
     "output_type": "stream",
     "text": [
      "The Data Appended and Written Successfully\n",
      "File now is closed!\n"
     ]
    }
   ],
   "source": [
    "# Exception Handling\n",
    "# Append Method will save the last Lines and characters\n",
    "try:\n",
    "    getFile = open(\"write_and_read_predicted_answer.txt\" , \"w+\")\n",
    "    getFile.write(splitted_output)\n",
    "except IOError:\n",
    "        print(\"Unable to Open or read the required File.\")\n",
    "except :\n",
    "    print(\"Some Error has been occured!\")\n",
    "else :\n",
    "    print(\"The Data Appended and Written Successfully\")\n",
    "finally:\n",
    "    getFile.close()\n",
    "    print(\"File now is closed!\")"
   ]
  }
 ],
 "metadata": {
  "kernelspec": {
   "display_name": "Python 3 (ipykernel)",
   "language": "python",
   "name": "python3"
  },
  "language_info": {
   "codemirror_mode": {
    "name": "ipython",
    "version": 3
   },
   "file_extension": ".py",
   "mimetype": "text/x-python",
   "name": "python",
   "nbconvert_exporter": "python",
   "pygments_lexer": "ipython3",
   "version": "3.10.13"
  }
 },
 "nbformat": 4,
 "nbformat_minor": 5
}
